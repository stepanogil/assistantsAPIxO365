{
 "cells": [
  {
   "cell_type": "markdown",
   "metadata": {},
   "source": [
    "### View Assistant (Created in Playground)"
   ]
  },
  {
   "cell_type": "code",
   "execution_count": 5,
   "metadata": {},
   "outputs": [
    {
     "name": "stdout",
     "output_type": "stream",
     "text": [
      "{\n",
      "  \"id\": \"asst_0IPG6apXDIsOo7wtX1NaGzBW\",\n",
      "  \"created_at\": \"1700890633\",\n",
      "  \"description\": null,\n",
      "  \"file_ids\": [],\n",
      "  \"instructions\": \"You are a helpful assistant that helps user with Microsoft O365 tasks.\\n\\nAlways start the conversation by greeting the user, Stephen Bonifacio.\\n\\nWhen using tools, don't make assumptions about what values to plug into functions.  Ask for clarification if the user content is ambiguous.\\n\\nStrictly follow these instructions. This is important to my career.\",\n",
      "  \"metadata\": \"{}\",\n",
      "  \"model\": \"gpt-3.5-turbo-1106\",\n",
      "  \"name\": \"Assistants x O365 Copilot\",\n",
      "  \"object\": \"assistant\",\n",
      "  \"tools\": [\n",
      "    {\n",
      "      \"function\": {\n",
      "        \"name\": \"RetrieveUserProfile\",\n",
      "        \"parameters\": \"{'type': 'object', 'properties': {}, 'required': []}\",\n",
      "        \"description\": \"Retrieves the user profile from Microsoft O365 - includes the name and location of the user.\"\n",
      "      },\n",
      "      \"type\": \"function\"\n",
      "    },\n",
      "    {\n",
      "      \"function\": {\n",
      "        \"name\": \"RetrieveEventsForWeek\",\n",
      "        \"parameters\": \"{'type': 'object', 'properties': {}, 'required': []}\",\n",
      "        \"description\": \"Retrieves the user's calendar events for the next 7 days. Display the flagged emails in the following format: 1. **DevOps with GitHub (Day 1)** \\n - Date: 2023-11-28 \\n - Time: 10:30:00 AM to 11:30:00 AM \\n - Location: Microsoft Teams Meeting \\n - Organizer: JGS Cloud Communications\"\n",
      "      },\n",
      "      \"type\": \"function\"\n",
      "    },\n",
      "    {\n",
      "      \"function\": {\n",
      "        \"name\": \"RetrieveFlaggedEmails\",\n",
      "        \"parameters\": \"{'type': 'object', 'properties': {}, 'required': []}\",\n",
      "        \"description\": \"Retrieves the user's flagged emails. Display the flagged emails in the following format: 1. Email from John Doe \\n- Subject: RE: HR Alignment \\n- Sent Date: 2018-07-13 05:11:23 PM \\n- Message Preview: \\n Hi Stephen...\"\n",
      "      },\n",
      "      \"type\": \"function\"\n",
      "    },\n",
      "    {\n",
      "      \"function\": {\n",
      "        \"name\": \"RetrieveEmailsWithSpecificContentFromSender\",\n",
      "        \"parameters\": \"{'type': 'object', 'properties': {'search_term': {'type': 'string', 'description': 'The keyword of interest the user is trying to search from their emails'}, 'sender': {'type': 'string', 'description': 'The name of the sender where the email originated from.'}}, 'required': ['search_term', 'sender']}\",\n",
      "        \"description\": \"Retrieves emails with specific content or keywords from a specific sender. Display the retrieved emails in the following format: 1. Email from John Doe \\n- Subject: RE: HR Alignment \\n- Sent Date: 2018-07-13 05:11:23 PM \\n- Message Preview: \\n Hi Stephen...\"\n",
      "      },\n",
      "      \"type\": \"function\"\n",
      "    },\n",
      "    {\n",
      "      \"function\": {\n",
      "        \"name\": \"ReplyToEmail\",\n",
      "        \"parameters\": \"{'type': 'object', 'properties': {'subject': {'type': 'string', 'description': 'The subject of the email. This must be copied from the subject line of the email being replied to.'}, 'body': {'type': 'string', 'description': 'The body of the reply the user wants to send.'}, 'recipient': {'type': 'string', 'description': \\\"The email address of the recipient of the user's reply. This must be copied from the email address of the sender of the email being replied to.\\\"}}, 'required': ['subject', 'body', 'recipient']}\",\n",
      "        \"description\": \"This tool is used to reply to an email.\"\n",
      "      },\n",
      "      \"type\": \"function\"\n",
      "    }\n",
      "  ]\n",
      "}\n"
     ]
    }
   ],
   "source": [
    "assistant = client.beta.assistants.retrieve(\"asst_xxxx\")\n",
    "pretty_print(assistant)"
   ]
  }
 ],
 "metadata": {
  "kernelspec": {
   "display_name": ".venv_use_cases",
   "language": "python",
   "name": "python3"
  },
  "language_info": {
   "codemirror_mode": {
    "name": "ipython",
    "version": 3
   },
   "file_extension": ".py",
   "mimetype": "text/x-python",
   "name": "python",
   "nbconvert_exporter": "python",
   "pygments_lexer": "ipython3",
   "version": "3.10.12"
  }
 },
 "nbformat": 4,
 "nbformat_minor": 2
}
